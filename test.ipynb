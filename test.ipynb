{
 "cells": [
  {
   "cell_type": "code",
   "execution_count": 1,
   "id": "0265232a",
   "metadata": {},
   "outputs": [],
   "source": [
    "from datetime import datetime, date\n",
    "import requests\n",
    "import pandas as pd"
   ]
  },
  {
   "cell_type": "code",
   "execution_count": null,
   "id": "e74a9822",
   "metadata": {},
   "outputs": [],
   "source": [
    "def fetch_spot_data(start: date, end: date) -> pd.DataFrame:\n",
    "    \n",
    "    \"\"\"Fetches spot market price data from the aWATTar API for a given date range.\"\"\"\n",
    "    base_url = \"https://api.awattar.at/v1/marketdata\"\n",
    "    start_dt, end_dt = datetime.combine(start, datetime.min.time()), datetime.combine(end + pd.Timedelta(days=1), datetime.min.time())\n",
    "    params = {\"start\": int(start_dt.timestamp() * 1000),\n",
    "              \"end\": int(end_dt.timestamp() * 1000)}\n",
    "    \n",
    "    print(f\"{datetime.now().strftime(\"%Y-%m-%d %H:%M:%S\")}: Will fetch data from Awattar.\")\n",
    "\n",
    "    response = requests.get(base_url, params=params)\n",
    "    response.raise_for_status()\n",
    "\n",
    "    df = pd.DataFrame(response.json()[\"data\"])\n",
    "    df[\"timestamp\"] = pd.to_datetime(df[\"start_timestamp\"], unit=\"ms\", utc=True)\n",
    "    df[\"spot_price_eur_kwh\"] = df[\"marketprice\"] / 1000 * 1.2 # Convert from Eur/MWh to c/kWh and add VAT\n",
    "    return df[[\"timestamp\", \"spot_price_eur_kwh\"]]"
   ]
  },
  {
   "cell_type": "code",
   "execution_count": null,
   "id": "c21a0cfc",
   "metadata": {},
   "outputs": [],
   "source": [
    "# Gleiche Preise wie hier: https://www.energymarket.solutions/day-ahead-borsenpreise/ -> Deutschland?\n",
    "df = pd.DataFrame(requests.get(\"https://api.awattar.at/v1/marketdata\").json()[\"data\"])"
   ]
  },
  {
   "cell_type": "code",
   "execution_count": 13,
   "id": "00458239",
   "metadata": {},
   "outputs": [
    {
     "data": {
      "application/vnd.microsoft.datawrangler.viewer.v0+json": {
       "columns": [
        {
         "name": "index",
         "rawType": "int64",
         "type": "integer"
        },
        {
         "name": "start_timestamp",
         "rawType": "int64",
         "type": "integer"
        },
        {
         "name": "end_timestamp",
         "rawType": "int64",
         "type": "integer"
        },
        {
         "name": "marketprice",
         "rawType": "float64",
         "type": "float"
        },
        {
         "name": "unit",
         "rawType": "object",
         "type": "string"
        }
       ],
       "ref": "1f05cd39-38ac-4d8e-a62a-94ecb86d32b8",
       "rows": [
        [
         "0",
         "1753783200000",
         "1753786800000",
         "25.6",
         "Eur/MWh"
        ],
        [
         "1",
         "1753786800000",
         "1753790400000",
         "4.34",
         "Eur/MWh"
        ],
        [
         "2",
         "1753790400000",
         "1753794000000",
         "1.07",
         "Eur/MWh"
        ],
        [
         "3",
         "1753794000000",
         "1753797600000",
         "6.2",
         "Eur/MWh"
        ],
        [
         "4",
         "1753797600000",
         "1753801200000",
         "44.41",
         "Eur/MWh"
        ],
        [
         "5",
         "1753801200000",
         "1753804800000",
         "78.24",
         "Eur/MWh"
        ],
        [
         "6",
         "1753804800000",
         "1753808400000",
         "94.81",
         "Eur/MWh"
        ],
        [
         "7",
         "1753808400000",
         "1753812000000",
         "105.32",
         "Eur/MWh"
        ],
        [
         "8",
         "1753812000000",
         "1753815600000",
         "123.56",
         "Eur/MWh"
        ],
        [
         "9",
         "1753815600000",
         "1753819200000",
         "126.01",
         "Eur/MWh"
        ],
        [
         "10",
         "1753819200000",
         "1753822800000",
         "111.94",
         "Eur/MWh"
        ],
        [
         "11",
         "1753822800000",
         "1753826400000",
         "102.07",
         "Eur/MWh"
        ]
       ],
       "shape": {
        "columns": 4,
        "rows": 12
       }
      },
      "text/html": [
       "<div>\n",
       "<style scoped>\n",
       "    .dataframe tbody tr th:only-of-type {\n",
       "        vertical-align: middle;\n",
       "    }\n",
       "\n",
       "    .dataframe tbody tr th {\n",
       "        vertical-align: top;\n",
       "    }\n",
       "\n",
       "    .dataframe thead th {\n",
       "        text-align: right;\n",
       "    }\n",
       "</style>\n",
       "<table border=\"1\" class=\"dataframe\">\n",
       "  <thead>\n",
       "    <tr style=\"text-align: right;\">\n",
       "      <th></th>\n",
       "      <th>start_timestamp</th>\n",
       "      <th>end_timestamp</th>\n",
       "      <th>marketprice</th>\n",
       "      <th>unit</th>\n",
       "    </tr>\n",
       "  </thead>\n",
       "  <tbody>\n",
       "    <tr>\n",
       "      <th>0</th>\n",
       "      <td>1753783200000</td>\n",
       "      <td>1753786800000</td>\n",
       "      <td>25.60</td>\n",
       "      <td>Eur/MWh</td>\n",
       "    </tr>\n",
       "    <tr>\n",
       "      <th>1</th>\n",
       "      <td>1753786800000</td>\n",
       "      <td>1753790400000</td>\n",
       "      <td>4.34</td>\n",
       "      <td>Eur/MWh</td>\n",
       "    </tr>\n",
       "    <tr>\n",
       "      <th>2</th>\n",
       "      <td>1753790400000</td>\n",
       "      <td>1753794000000</td>\n",
       "      <td>1.07</td>\n",
       "      <td>Eur/MWh</td>\n",
       "    </tr>\n",
       "    <tr>\n",
       "      <th>3</th>\n",
       "      <td>1753794000000</td>\n",
       "      <td>1753797600000</td>\n",
       "      <td>6.20</td>\n",
       "      <td>Eur/MWh</td>\n",
       "    </tr>\n",
       "    <tr>\n",
       "      <th>4</th>\n",
       "      <td>1753797600000</td>\n",
       "      <td>1753801200000</td>\n",
       "      <td>44.41</td>\n",
       "      <td>Eur/MWh</td>\n",
       "    </tr>\n",
       "    <tr>\n",
       "      <th>5</th>\n",
       "      <td>1753801200000</td>\n",
       "      <td>1753804800000</td>\n",
       "      <td>78.24</td>\n",
       "      <td>Eur/MWh</td>\n",
       "    </tr>\n",
       "    <tr>\n",
       "      <th>6</th>\n",
       "      <td>1753804800000</td>\n",
       "      <td>1753808400000</td>\n",
       "      <td>94.81</td>\n",
       "      <td>Eur/MWh</td>\n",
       "    </tr>\n",
       "    <tr>\n",
       "      <th>7</th>\n",
       "      <td>1753808400000</td>\n",
       "      <td>1753812000000</td>\n",
       "      <td>105.32</td>\n",
       "      <td>Eur/MWh</td>\n",
       "    </tr>\n",
       "    <tr>\n",
       "      <th>8</th>\n",
       "      <td>1753812000000</td>\n",
       "      <td>1753815600000</td>\n",
       "      <td>123.56</td>\n",
       "      <td>Eur/MWh</td>\n",
       "    </tr>\n",
       "    <tr>\n",
       "      <th>9</th>\n",
       "      <td>1753815600000</td>\n",
       "      <td>1753819200000</td>\n",
       "      <td>126.01</td>\n",
       "      <td>Eur/MWh</td>\n",
       "    </tr>\n",
       "    <tr>\n",
       "      <th>10</th>\n",
       "      <td>1753819200000</td>\n",
       "      <td>1753822800000</td>\n",
       "      <td>111.94</td>\n",
       "      <td>Eur/MWh</td>\n",
       "    </tr>\n",
       "    <tr>\n",
       "      <th>11</th>\n",
       "      <td>1753822800000</td>\n",
       "      <td>1753826400000</td>\n",
       "      <td>102.07</td>\n",
       "      <td>Eur/MWh</td>\n",
       "    </tr>\n",
       "  </tbody>\n",
       "</table>\n",
       "</div>"
      ],
      "text/plain": [
       "    start_timestamp  end_timestamp  marketprice     unit\n",
       "0     1753783200000  1753786800000        25.60  Eur/MWh\n",
       "1     1753786800000  1753790400000         4.34  Eur/MWh\n",
       "2     1753790400000  1753794000000         1.07  Eur/MWh\n",
       "3     1753794000000  1753797600000         6.20  Eur/MWh\n",
       "4     1753797600000  1753801200000        44.41  Eur/MWh\n",
       "5     1753801200000  1753804800000        78.24  Eur/MWh\n",
       "6     1753804800000  1753808400000        94.81  Eur/MWh\n",
       "7     1753808400000  1753812000000       105.32  Eur/MWh\n",
       "8     1753812000000  1753815600000       123.56  Eur/MWh\n",
       "9     1753815600000  1753819200000       126.01  Eur/MWh\n",
       "10    1753819200000  1753822800000       111.94  Eur/MWh\n",
       "11    1753822800000  1753826400000       102.07  Eur/MWh"
      ]
     },
     "execution_count": 13,
     "metadata": {},
     "output_type": "execute_result"
    }
   ],
   "source": [
    "df"
   ]
  },
  {
   "cell_type": "code",
   "execution_count": 15,
   "id": "99735cfd",
   "metadata": {},
   "outputs": [],
   "source": [
    "df[\"timestamp\"] = pd.to_datetime(df[\"start_timestamp\"], unit=\"ms\", utc=True)"
   ]
  },
  {
   "cell_type": "code",
   "execution_count": 19,
   "id": "0acd1933",
   "metadata": {},
   "outputs": [
    {
     "data": {
      "application/vnd.microsoft.datawrangler.viewer.v0+json": {
       "columns": [
        {
         "name": "index",
         "rawType": "int64",
         "type": "integer"
        },
        {
         "name": "marketprice",
         "rawType": "float64",
         "type": "float"
        }
       ],
       "ref": "a889249c-14ca-401b-8dc7-71a0137fb7ba",
       "rows": [
        [
         "0",
         "25.6"
        ],
        [
         "1",
         "4.34"
        ],
        [
         "2",
         "1.07"
        ],
        [
         "3",
         "6.2"
        ],
        [
         "4",
         "44.41"
        ],
        [
         "5",
         "78.24"
        ],
        [
         "6",
         "94.81"
        ],
        [
         "7",
         "105.32"
        ],
        [
         "8",
         "123.56"
        ],
        [
         "9",
         "126.01"
        ],
        [
         "10",
         "111.94"
        ],
        [
         "11",
         "102.07"
        ]
       ],
       "shape": {
        "columns": 1,
        "rows": 12
       }
      },
      "text/plain": [
       "0      25.60\n",
       "1       4.34\n",
       "2       1.07\n",
       "3       6.20\n",
       "4      44.41\n",
       "5      78.24\n",
       "6      94.81\n",
       "7     105.32\n",
       "8     123.56\n",
       "9     126.01\n",
       "10    111.94\n",
       "11    102.07\n",
       "Name: marketprice, dtype: float64"
      ]
     },
     "execution_count": 19,
     "metadata": {},
     "output_type": "execute_result"
    }
   ],
   "source": [
    "df[\"marketprice\"]"
   ]
  }
 ],
 "metadata": {
  "kernelspec": {
   "display_name": "ds-general",
   "language": "python",
   "name": "python3"
  },
  "language_info": {
   "codemirror_mode": {
    "name": "ipython",
    "version": 3
   },
   "file_extension": ".py",
   "mimetype": "text/x-python",
   "name": "python",
   "nbconvert_exporter": "python",
   "pygments_lexer": "ipython3",
   "version": "3.13.2"
  }
 },
 "nbformat": 4,
 "nbformat_minor": 5
}
