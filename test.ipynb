{
 "cells": [
  {
   "cell_type": "code",
   "execution_count": 1,
   "id": "7b5343db",
   "metadata": {},
   "outputs": [],
   "source": [
    "from parser import ConsumptionDataParser\n",
    "import pandas as pd\n"
   ]
  },
  {
   "cell_type": "code",
   "execution_count": 2,
   "id": "d2e8b87b",
   "metadata": {},
   "outputs": [],
   "source": [
    "LOCAL_TIMEZONE = \"Europe/Vienna\"\n",
    "FILE = \"/Users/matsschneider/Documents/Privat/Ideas/Strompreis Analyse/VIERTELSTUNDENWERTE-20250724.csv\""
   ]
  },
  {
   "cell_type": "code",
   "execution_count": 3,
   "id": "3b286383",
   "metadata": {},
   "outputs": [],
   "source": [
    "df = pd.read_csv(FILE, sep=\";\", decimal=\",\", encoding=\"utf-8\", dayfirst=True)\n",
    "consumption_col = next((col for col in df.columns if \"Verbrauch [kWh]\" in col), None)\n",
    "\n",
    "if not consumption_col or \"Datum\" not in df.columns or \"Zeit von\" not in df.columns:\n",
    "    raise ValueError(\"Default format columns not found.\")\n",
    "    \n",
    "df = df[[\"Datum\", \"Zeit von\", consumption_col]].copy()#.dropna()\n",
    "df.columns = [\"date_str\", \"time_str\", \"consumption_kwh\"]\n",
    "\n",
    "# Manually combine date and time for robust parsing\n",
    "df[\"timestamp_local\"] = pd.to_datetime(df[\"date_str\"] + \" \" + df[\"time_str\"], dayfirst=True)\n",
    "df[\"timestamp\"] = df[\"timestamp_local\"].dt.tz_localize(LOCAL_TIMEZONE, ambiguous=\"infer\").dt.tz_convert(\"UTC\")"
   ]
  },
  {
   "cell_type": "code",
   "execution_count": 4,
   "id": "4e8cb20c",
   "metadata": {},
   "outputs": [
    {
     "data": {
      "application/vnd.microsoft.datawrangler.viewer.v0+json": {
       "columns": [
        {
         "name": "timestamp",
         "rawType": "datetime64[ns, UTC]",
         "type": "unknown"
        },
        {
         "name": "consumption_kwh",
         "rawType": "float64",
         "type": "float"
        }
       ],
       "ref": "5cd517e5-41a4-4dc8-ace7-2d9c6d9276e3",
       "rows": [
        [
         "2025-01-01 00:00:00+00:00",
         "108.592"
        ],
        [
         "2025-02-01 00:00:00+00:00",
         "108.792"
        ],
        [
         "2025-03-01 00:00:00+00:00",
         "124.774"
        ],
        [
         "2025-04-01 00:00:00+00:00",
         "107.984"
        ],
        [
         "2025-05-01 00:00:00+00:00",
         "102.721"
        ],
        [
         "2025-06-01 00:00:00+00:00",
         "100.256"
        ],
        [
         "2025-07-01 00:00:00+00:00",
         "58.867"
        ]
       ],
       "shape": {
        "columns": 1,
        "rows": 7
       }
      },
      "text/plain": [
       "timestamp\n",
       "2025-01-01 00:00:00+00:00    108.592\n",
       "2025-02-01 00:00:00+00:00    108.792\n",
       "2025-03-01 00:00:00+00:00    124.774\n",
       "2025-04-01 00:00:00+00:00    107.984\n",
       "2025-05-01 00:00:00+00:00    102.721\n",
       "2025-06-01 00:00:00+00:00    100.256\n",
       "2025-07-01 00:00:00+00:00     58.867\n",
       "Freq: MS, Name: consumption_kwh, dtype: float64"
      ]
     },
     "execution_count": 4,
     "metadata": {},
     "output_type": "execute_result"
    }
   ],
   "source": [
    "grp = df.groupby(pd.Grouper(key=\"timestamp\", freq=\"MS\"))[\"consumption_kwh\"].sum()\n",
    "grp[grp.index >= \"01.01.2025\"]"
   ]
  },
  {
   "cell_type": "code",
   "execution_count": null,
   "id": "9810aa27",
   "metadata": {},
   "outputs": [],
   "source": []
  }
 ],
 "metadata": {
  "kernelspec": {
   "display_name": "ds-general",
   "language": "python",
   "name": "python3"
  },
  "language_info": {
   "codemirror_mode": {
    "name": "ipython",
    "version": 3
   },
   "file_extension": ".py",
   "mimetype": "text/x-python",
   "name": "python",
   "nbconvert_exporter": "python",
   "pygments_lexer": "ipython3",
   "version": "3.13.2"
  }
 },
 "nbformat": 4,
 "nbformat_minor": 5
}
